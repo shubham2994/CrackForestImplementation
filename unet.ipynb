{
 "cells": [
  {
   "cell_type": "code",
   "execution_count": 104,
   "metadata": {},
   "outputs": [],
   "source": [
    "from glob import glob\n",
    "from scipy import io\n",
    "import numpy as np\n",
    "import keras\n",
    "from skimage import io as skio\n",
    "from keras.preprocessing.image import ImageDataGenerator\n",
    "import keras.backend as K\n",
    "K.set_image_dim_ordering(dim_ordering='tf')"
   ]
  },
  {
   "cell_type": "code",
   "execution_count": 105,
   "metadata": {},
   "outputs": [],
   "source": [
    "trainPath = glob('/home/shubham/Documents/CrackForest-dataset-master/groundTruth/**.jpg')\n",
    "labelsPath = glob('/home/shubham/Documents/CrackForest-dataset-master/groundTruth/**.mat')"
   ]
  },
  {
   "cell_type": "code",
   "execution_count": 106,
   "metadata": {},
   "outputs": [],
   "source": [
    "assert(len(trainPath)==len(labelsPath))"
   ]
  },
  {
   "cell_type": "code",
   "execution_count": 107,
   "metadata": {},
   "outputs": [],
   "source": [
    "trainPath.sort()\n",
    "labelsPath.sort()"
   ]
  },
  {
   "cell_type": "code",
   "execution_count": 108,
   "metadata": {},
   "outputs": [],
   "source": [
    "len(labelsPath)\n",
    "train = np.empty(dtype='float32',shape=(len(trainPath),320,480,3))\n",
    "labelsSeg = np.empty(dtype='uint8',shape=(len(labelsPath),320,480))\n",
    "labelsBound = np.empty(dtype='uint8',shape=(len(labelsPath),320,480))"
   ]
  },
  {
   "cell_type": "code",
   "execution_count": 109,
   "metadata": {},
   "outputs": [],
   "source": [
    "for i in xrange(len(labelsPath)):\n",
    "    x = skio.imread(trainPath[i])\n",
    "    #print x.shape\n",
    "    seg = io.loadmat(labelsPath[i])\n",
    "    labelsSeg[i] = seg['groundTruth'][0][0][0]\n",
    "    labelsBound[i] = seg['groundTruth'][0][0][1]\n",
    "\n",
    "    train[i] = x/256."
   ]
  },
  {
   "cell_type": "code",
   "execution_count": 110,
   "metadata": {},
   "outputs": [],
   "source": [
    "np.save(arr=train,file='/home/shubham/Documents/CrackForest-dataset-master/train.npy')"
   ]
  },
  {
   "cell_type": "code",
   "execution_count": 111,
   "metadata": {},
   "outputs": [],
   "source": [
    "np.save(arr=labelsSeg,file='/home/shubham/Documents/CrackForest-dataset-master/labelsSeg.npy')"
   ]
  },
  {
   "cell_type": "code",
   "execution_count": 112,
   "metadata": {},
   "outputs": [],
   "source": [
    "np.save(arr=labelsBound,file='/home/shubham/Documents/CrackForest-dataset-master/labelsBound.npy')"
   ]
  },
  {
   "cell_type": "code",
   "execution_count": 87,
   "metadata": {},
   "outputs": [],
   "source": [
    "datagen = ImageDataGenerator(\n",
    "    featurewise_center=True,\n",
    "    featurewise_std_normalization=True,\n",
    "    rotation_range=20,\n",
    "    width_shift_range=0.2,\n",
    "    height_shift_range=0.2,\n",
    "    horizontal_flip=True)\n",
    "\n",
    "# compute quantities required for featurewise normalization\n",
    "# (std, mean, and principal components if ZCA whitening is applied)\n",
    "datagen.fit(train)"
   ]
  },
  {
   "cell_type": "code",
   "execution_count": 114,
   "metadata": {},
   "outputs": [
    {
     "data": {
      "text/plain": [
       "0.0"
      ]
     },
     "execution_count": 114,
     "metadata": {},
     "output_type": "execute_result"
    }
   ],
   "source": [
    "np.min(train)"
   ]
  },
  {
   "cell_type": "code",
   "execution_count": 41,
   "metadata": {},
   "outputs": [
    {
     "name": "stdout",
     "output_type": "stream",
     "text": [
      "(18124800, 3)\n"
     ]
    }
   ],
   "source": [
    "x = np.argwhere(labelsSeg>0)\n",
    "print x.shape"
   ]
  },
  {
   "cell_type": "code",
   "execution_count": 12,
   "metadata": {},
   "outputs": [],
   "source": [
    "for i in xrange(x.shape[0]):\n",
    "    labelsSeg[x[i][0],x[i][1],x[i][2]] = 1"
   ]
  },
  {
   "cell_type": "code",
   "execution_count": 126,
   "metadata": {},
   "outputs": [
    {
     "data": {
      "text/plain": [
       "array([], shape=(0, 3), dtype=int64)"
      ]
     },
     "execution_count": 126,
     "metadata": {},
     "output_type": "execute_result"
    }
   ],
   "source": []
  },
  {
   "cell_type": "code",
   "execution_count": 19,
   "metadata": {},
   "outputs": [],
   "source": [
    "for i in xrange(labelsSeg.shape[0]):\n",
    "    skio.imsave('/home/shubham/Documents/CrackForest-dataset-master/train/train/train/0.png{}.png'.format(i),np.asarray(train[i]))"
   ]
  },
  {
   "cell_type": "code",
   "execution_count": 9,
   "metadata": {},
   "outputs": [],
   "source": [
    "labelsSeg = np.load('/home/shubham/Documents/CrackForest-dataset-master/labelsSeg.npy')"
   ]
  },
  {
   "cell_type": "code",
   "execution_count": null,
   "metadata": {},
   "outputs": [],
   "source": []
  }
 ],
 "metadata": {
  "kernelspec": {
   "display_name": "Python 3",
   "language": "python",
   "name": "python3"
  },
  "language_info": {
   "codemirror_mode": {
    "name": "ipython",
    "version": 2
   },
   "file_extension": ".py",
   "mimetype": "text/x-python",
   "name": "python",
   "nbconvert_exporter": "python",
   "pygments_lexer": "ipython2",
   "version": "2.7.14"
  }
 },
 "nbformat": 4,
 "nbformat_minor": 2
}
